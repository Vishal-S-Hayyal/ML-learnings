{
 "cells": [
  {
   "cell_type": "code",
   "execution_count": 2,
   "id": "2e93dfab",
   "metadata": {},
   "outputs": [
    {
     "name": "stdout",
     "output_type": "stream",
     "text": [
      "10 13\n",
      "13\n"
     ]
    }
   ],
   "source": [
    "#print function\n",
    "a=10\n",
    "print(a, end=\" \")\n",
    "print(13)\n",
    "print(13)"
   ]
  },
  {
   "cell_type": "code",
   "execution_count": 4,
   "id": "2272bb4e",
   "metadata": {},
   "outputs": [
    {
     "name": "stdout",
     "output_type": "stream",
     "text": [
      "10\n",
      "20\n"
     ]
    },
    {
     "data": {
      "text/plain": [
       "20"
      ]
     },
     "execution_count": 4,
     "metadata": {},
     "output_type": "execute_result"
    }
   ],
   "source": [
    "#last line output\n",
    "a=10\n",
    "b=20\n",
    "print(a)\n",
    "print(b)\n",
    "b"
   ]
  },
  {
   "cell_type": "code",
   "execution_count": 5,
   "id": "5499c828",
   "metadata": {},
   "outputs": [
    {
     "name": "stdout",
     "output_type": "stream",
     "text": [
      "<class 'int'>\n",
      "<class 'float'>\n",
      "<class 'complex'>\n"
     ]
    }
   ],
   "source": [
    "#variables and types of numbers\n",
    "a=10\n",
    "print(type(a))\n",
    "a=12.3\n",
    "print(type(a))\n",
    "a=2+3j\n",
    "print(type(a))"
   ]
  },
  {
   "cell_type": "code",
   "execution_count": 6,
   "id": "d2d45b78",
   "metadata": {},
   "outputs": [
    {
     "name": "stdout",
     "output_type": "stream",
     "text": [
      "12\n",
      "20\n",
      "32\n",
      "-8\n",
      "240\n",
      "0.6\n",
      "0\n",
      "144\n",
      "12\n"
     ]
    }
   ],
   "source": [
    "#operator\n",
    "a=12\n",
    "c=a+b\n",
    "print(a)\n",
    "print(b)\n",
    "print(c)\n",
    "print(a-b)\n",
    "print(a*b)\n",
    "print(a/b)\n",
    "print(a//b) #floor operator to get result of division in integer\n",
    "print(a**2) #exponent operator\n",
    "print(a%b) #modulus operator"
   ]
  },
  {
   "cell_type": "code",
   "execution_count": null,
   "id": "8ecf530a",
   "metadata": {},
   "outputs": [],
   "source": []
  }
 ],
 "metadata": {
  "kernelspec": {
   "display_name": "Python 3 (ipykernel)",
   "language": "python",
   "name": "python3"
  },
  "language_info": {
   "codemirror_mode": {
    "name": "ipython",
    "version": 3
   },
   "file_extension": ".py",
   "mimetype": "text/x-python",
   "name": "python",
   "nbconvert_exporter": "python",
   "pygments_lexer": "ipython3",
   "version": "3.11.2"
  }
 },
 "nbformat": 4,
 "nbformat_minor": 5
}
