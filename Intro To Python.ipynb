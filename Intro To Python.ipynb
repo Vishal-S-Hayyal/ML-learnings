{
 "cells": [
  {
   "cell_type": "code",
   "execution_count": 2,
   "id": "2e93dfab",
   "metadata": {},
   "outputs": [
    {
     "name": "stdout",
     "output_type": "stream",
     "text": [
      "10 13\n",
      "13\n"
     ]
    }
   ],
   "source": [
    "#print function\n",
    "a=10\n",
    "print(a, end=\" \")\n",
    "print(13)\n",
    "print(13)"
   ]
  },
  {
   "cell_type": "code",
   "execution_count": 4,
   "id": "2272bb4e",
   "metadata": {},
   "outputs": [
    {
     "name": "stdout",
     "output_type": "stream",
     "text": [
      "10\n",
      "20\n"
     ]
    },
    {
     "data": {
      "text/plain": [
       "20"
      ]
     },
     "execution_count": 4,
     "metadata": {},
     "output_type": "execute_result"
    }
   ],
   "source": [
    "#last line output\n",
    "a=10\n",
    "b=20\n",
    "print(a)\n",
    "print(b)\n",
    "b"
   ]
  },
  {
   "cell_type": "code",
   "execution_count": 5,
   "id": "5499c828",
   "metadata": {},
   "outputs": [
    {
     "name": "stdout",
     "output_type": "stream",
     "text": [
      "<class 'int'>\n",
      "<class 'float'>\n",
      "<class 'complex'>\n"
     ]
    }
   ],
   "source": [
    "#variables and types of numbers\n",
    "a=10\n",
    "print(type(a))\n",
    "a=12.3\n",
    "print(type(a))\n",
    "a=2+3j\n",
    "print(type(a))"
   ]
  },
  {
   "cell_type": "code",
   "execution_count": 6,
   "id": "d2d45b78",
   "metadata": {},
   "outputs": [
    {
     "name": "stdout",
     "output_type": "stream",
     "text": [
      "12\n",
      "20\n",
      "32\n",
      "-8\n",
      "240\n",
      "0.6\n",
      "0\n",
      "144\n",
      "12\n"
     ]
    }
   ],
   "source": [
    "#operator\n",
    "a=12\n",
    "c=a+b\n",
    "print(a)\n",
    "print(b)\n",
    "print(c)\n",
    "print(a-b)\n",
    "print(a*b)\n",
    "print(a/b)\n",
    "print(a//b) #floor operator to get result of division in integer\n",
    "print(a**2) #exponent operator\n",
    "print(a%b) #modulus operator"
   ]
  },
  {
   "cell_type": "code",
   "execution_count": 8,
   "id": "8ecf530a",
   "metadata": {},
   "outputs": [
    {
     "name": "stdout",
     "output_type": "stream",
     "text": [
      "This is a string\n"
     ]
    }
   ],
   "source": [
    "#strings\n",
    "a = \"This is a string\"\n",
    "print(a)"
   ]
  },
  {
   "cell_type": "code",
   "execution_count": 10,
   "id": "dd7e01a9",
   "metadata": {},
   "outputs": [
    {
     "name": "stdout",
     "output_type": "stream",
     "text": [
      "3\n",
      "<class 'str'>\n",
      "d\n",
      "defabc\n",
      "<class 'str'>\n"
     ]
    }
   ],
   "source": [
    "#typical string properties\n",
    "print(len(a))\n",
    "print(type(a))\n",
    "print(a[0])\n",
    "# strings are immutable\n",
    "# a[0] = 2 INVALID\n",
    "a=\"def\" # valid as we aren't changing the string\n",
    "b=\"abc\"\n",
    "c=a+b\n",
    "print(c)\n",
    "\n",
    "# no characters\n",
    "print(type('2')) "
   ]
  },
  {
   "cell_type": "code",
   "execution_count": 18,
   "id": "34dab61f",
   "metadata": {},
   "outputs": [
    {
     "name": "stdout",
     "output_type": "stream",
     "text": [
      "  ABC  \n",
      "  Abc  \n",
      "  abc  \n",
      "Abc\n",
      "True\n"
     ]
    }
   ],
   "source": [
    "# Few functions for strings\n",
    "a = \"  Abc  \"\n",
    "print(a.upper())\n",
    "print(a)\n",
    "print(a.lower())\n",
    "print(a.strip())\n",
    "a = a.strip()\n",
    "print(a.isalpha())"
   ]
  },
  {
   "cell_type": "code",
   "execution_count": 20,
   "id": "66a43a63",
   "metadata": {},
   "outputs": [
    {
     "name": "stdout",
     "output_type": "stream",
     "text": [
      "123\n",
      "<class 'str'>\n",
      "123\n",
      "<class 'int'>\n"
     ]
    }
   ],
   "source": [
    "#user input\n",
    "a = input()\n",
    "print(a)\n",
    "print(type(a))\n",
    "\n",
    "#input() returns a str\n",
    "a=int(input())\n",
    "print(a)\n",
    "print(type(a))"
   ]
  },
  {
   "cell_type": "code",
   "execution_count": 23,
   "id": "02e083ec",
   "metadata": {},
   "outputs": [
    {
     "name": "stdout",
     "output_type": "stream",
     "text": [
      "a\n",
      "a\n"
     ]
    }
   ],
   "source": [
    "#Negative Indexing   #a[-n,-2,-1] #a[0,1,2]\n",
    "s = \"abc\"\n",
    "print(s[0])\n",
    "print(s[-3])"
   ]
  },
  {
   "cell_type": "code",
   "execution_count": 26,
   "id": "894f3956",
   "metadata": {},
   "outputs": [
    {
     "name": "stdout",
     "output_type": "stream",
     "text": [
      "bc\n",
      "ef\n",
      "efg\n",
      "abc\n",
      "abcdefg\n"
     ]
    }
   ],
   "source": [
    "#Slicing\n",
    "s = \"abcdefg\"\n",
    "print(s[1:3])\n",
    "print(s[-3:-1])\n",
    "\n",
    "print(s[4:])\n",
    "print(s[:3])\n",
    "print(s[:])"
   ]
  },
  {
   "cell_type": "code",
   "execution_count": 2,
   "id": "f7d8ca99",
   "metadata": {},
   "outputs": [
    {
     "name": "stdout",
     "output_type": "stream",
     "text": [
      "<class 'tuple'>\n",
      "1\n",
      "<class 'tuple'>\n",
      "(1, '23dd', 2.3)\n",
      "(1, '23dd')\n"
     ]
    }
   ],
   "source": [
    "#Tuple\n",
    "t = (1,2,3)\n",
    "print(type(t))\n",
    "print(t[0])\n",
    "\n",
    "t = (1,\"23dd\", 2.3)\n",
    "print(type(t))\n",
    "print(t)\n",
    "#immutable\n",
    "#t[0] = 23 INVALID\n",
    "print(t[0:2])"
   ]
  },
  {
   "cell_type": "code",
   "execution_count": 1,
   "id": "fbf72079",
   "metadata": {},
   "outputs": [
    {
     "name": "stdout",
     "output_type": "stream",
     "text": [
      "(1, 2, 'd', 1)\n",
      "(1, 2, 1, 2)\n",
      "True\n",
      "False\n"
     ]
    }
   ],
   "source": [
    "#Operators in tuples\n",
    "t = (1,2)\n",
    "k = (\"d\", 1)\n",
    "print(t+k)\n",
    "print(t*2) #prints tuple 2 times\n",
    "print(1 in t)\n",
    "print(2 in k)"
   ]
  },
  {
   "cell_type": "code",
   "execution_count": null,
   "id": "fb4c1ceb",
   "metadata": {},
   "outputs": [],
   "source": []
  },
  {
   "cell_type": "code",
   "execution_count": null,
   "id": "2a35c1e5",
   "metadata": {},
   "outputs": [],
   "source": []
  }
 ],
 "metadata": {
  "kernelspec": {
   "display_name": "Python 3 (ipykernel)",
   "language": "python",
   "name": "python3"
  },
  "language_info": {
   "codemirror_mode": {
    "name": "ipython",
    "version": 3
   },
   "file_extension": ".py",
   "mimetype": "text/x-python",
   "name": "python",
   "nbconvert_exporter": "python",
   "pygments_lexer": "ipython3",
   "version": "3.11.2"
  }
 },
 "nbformat": 4,
 "nbformat_minor": 5
}
