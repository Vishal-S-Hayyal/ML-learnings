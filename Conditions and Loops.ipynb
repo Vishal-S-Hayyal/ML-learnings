{
 "cells": [
  {
   "cell_type": "code",
   "execution_count": 1,
   "metadata": {},
   "outputs": [
    {
     "name": "stdout",
     "output_type": "stream",
     "text": [
      "<class 'bool'>\n"
     ]
    }
   ],
   "source": [
    "#Boolean datatype\n",
    "a = True\n",
    "b = False\n",
    "print(type(a))"
   ]
  },
  {
   "cell_type": "code",
   "execution_count": 2,
   "metadata": {},
   "outputs": [
    {
     "name": "stdout",
     "output_type": "stream",
     "text": [
      "False\n",
      "False\n",
      "True\n",
      "True\n",
      "False\n",
      "True\n"
     ]
    }
   ],
   "source": [
    "#Relational operator\n",
    "a=10\n",
    "b=20\n",
    "print(a>b)\n",
    "print(a>=b)\n",
    "print(a<=b)\n",
    "print(a<b)\n",
    "print(a==b)\n",
    "print(a!=b)"
   ]
  },
  {
   "cell_type": "code",
   "execution_count": 3,
   "metadata": {},
   "outputs": [
    {
     "name": "stdout",
     "output_type": "stream",
     "text": [
      "False\n",
      "True\n"
     ]
    }
   ],
   "source": [
    "#Logical Operators\n",
    "x=10\n",
    "y=20\n",
    "z=30\n",
    "print(x>y and z>y)\n",
    "print(x>y or z>y)"
   ]
  },
  {
   "cell_type": "code",
   "execution_count": 4,
   "metadata": {},
   "outputs": [
    {
     "name": "stdout",
     "output_type": "stream",
     "text": [
      "40\n",
      "40\n"
     ]
    }
   ],
   "source": [
    "#If Else\n",
    "x=30\n",
    "y=40\n",
    "z=35\n",
    "if x>y :\n",
    "    print(x)\n",
    "else :\n",
    "    print(y)\n",
    "    \n",
    "if x >= y and x >= z :\n",
    "    print(x)\n",
    "elif y >= z and y >= x:\n",
    "    print(y)\n",
    "else :\n",
    "    print(z)               "
   ]
  },
  {
   "cell_type": "code",
   "execution_count": 8,
   "metadata": {},
   "outputs": [
    {
     "name": "stdout",
     "output_type": "stream",
     "text": [
      "1 2 3 4 \n",
      "done\n"
     ]
    }
   ],
   "source": [
    "#While loop\n",
    "n = int(input())\n",
    "i = 1\n",
    "while(i <= n ):\n",
    "    print(i, end=\" \")\n",
    "    i = i + 1\n",
    "print()\n",
    "print(\"done\")    "
   ]
  },
  {
   "cell_type": "code",
   "execution_count": 13,
   "metadata": {},
   "outputs": [
    {
     "name": "stdout",
     "output_type": "stream",
     "text": [
      "4\n",
      "6\n",
      "8\n"
     ]
    }
   ],
   "source": [
    "# For Loop and Range\n",
    "# n = int(input())\n",
    "\n",
    "# for i in range(n+1):\n",
    "#     print(i,end=\" \")\n",
    "for i in range(4,10,2):\n",
    "    print(i)"
   ]
  },
  {
   "cell_type": "code",
   "execution_count": 21,
   "metadata": {},
   "outputs": [
    {
     "name": "stdout",
     "output_type": "stream",
     "text": [
      "Prime\n"
     ]
    }
   ],
   "source": [
    "#Prime Number\n",
    "n = int(input())\n",
    "prime = True\n",
    "for i in range(2,n):\n",
    "    if(n%i==0) :\n",
    "        prime=False\n",
    "        break\n",
    "if (prime):\n",
    "    print(\"Prime\")\n",
    "else : \n",
    "    print(\"Not a Prime\")            \n",
    "        \n",
    "        \n",
    "    "
   ]
  },
  {
   "cell_type": "code",
   "execution_count": null,
   "metadata": {},
   "outputs": [],
   "source": []
  }
 ],
 "metadata": {
  "kernelspec": {
   "display_name": "Python 3",
   "language": "python",
   "name": "python3"
  },
  "language_info": {
   "codemirror_mode": {
    "name": "ipython",
    "version": 3
   },
   "file_extension": ".py",
   "mimetype": "text/x-python",
   "name": "python",
   "nbconvert_exporter": "python",
   "pygments_lexer": "ipython3",
   "version": "3.11.2"
  }
 },
 "nbformat": 4,
 "nbformat_minor": 2
}
