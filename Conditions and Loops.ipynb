{
 "cells": [
  {
   "cell_type": "code",
   "execution_count": 1,
   "metadata": {},
   "outputs": [
    {
     "name": "stdout",
     "output_type": "stream",
     "text": [
      "<class 'bool'>\n"
     ]
    }
   ],
   "source": [
    "#Boolean datatype\n",
    "a = True\n",
    "b = False\n",
    "print(type(a))"
   ]
  },
  {
   "cell_type": "code",
   "execution_count": 2,
   "metadata": {},
   "outputs": [
    {
     "name": "stdout",
     "output_type": "stream",
     "text": [
      "False\n",
      "False\n",
      "True\n",
      "True\n",
      "False\n",
      "True\n"
     ]
    }
   ],
   "source": [
    "#Relational operator\n",
    "a=10\n",
    "b=20\n",
    "print(a>b)\n",
    "print(a>=b)\n",
    "print(a<=b)\n",
    "print(a<b)\n",
    "print(a==b)\n",
    "print(a!=b)"
   ]
  },
  {
   "cell_type": "code",
   "execution_count": 3,
   "metadata": {},
   "outputs": [
    {
     "name": "stdout",
     "output_type": "stream",
     "text": [
      "False\n",
      "True\n"
     ]
    }
   ],
   "source": [
    "#Logical Operators\n",
    "x=10\n",
    "y=20\n",
    "z=30\n",
    "print(x>y and z>y)\n",
    "print(x>y or z>y)"
   ]
  },
  {
   "cell_type": "code",
   "execution_count": 4,
   "metadata": {},
   "outputs": [
    {
     "name": "stdout",
     "output_type": "stream",
     "text": [
      "40\n",
      "40\n"
     ]
    }
   ],
   "source": [
    "#If Else\n",
    "x=30\n",
    "y=40\n",
    "z=35\n",
    "if x>y :\n",
    "    print(x)\n",
    "else :\n",
    "    print(y)\n",
    "    \n",
    "if x >= y and x >= z :\n",
    "    print(x)\n",
    "elif y >= z and y >= x:\n",
    "    print(y)\n",
    "else :\n",
    "    print(z)               "
   ]
  },
  {
   "cell_type": "code",
   "execution_count": 8,
   "metadata": {},
   "outputs": [
    {
     "name": "stdout",
     "output_type": "stream",
     "text": [
      "1 2 3 4 \n",
      "done\n"
     ]
    }
   ],
   "source": [
    "#While loop\n",
    "n = int(input())\n",
    "i = 1\n",
    "while(i <= n ):\n",
    "    print(i, end=\" \")\n",
    "    i = i + 1\n",
    "print()\n",
    "print(\"done\")    "
   ]
  },
  {
   "cell_type": "code",
   "execution_count": 13,
   "metadata": {},
   "outputs": [
    {
     "name": "stdout",
     "output_type": "stream",
     "text": [
      "4\n",
      "6\n",
      "8\n"
     ]
    }
   ],
   "source": [
    "# For Loop and Range\n",
    "# n = int(input())\n",
    "\n",
    "# for i in range(n+1):\n",
    "#     print(i,end=\" \")\n",
    "for i in range(4,10,2):\n",
    "    print(i)"
   ]
  },
  {
   "cell_type": "code",
   "execution_count": 21,
   "metadata": {},
   "outputs": [
    {
     "name": "stdout",
     "output_type": "stream",
     "text": [
      "Prime\n"
     ]
    }
   ],
   "source": [
    "#Prime Number\n",
    "n = int(input())\n",
    "prime = True\n",
    "for i in range(2,n):\n",
    "    if(n%i==0) :\n",
    "        prime=False\n",
    "        break\n",
    "if (prime):\n",
    "    print(\"Prime\")\n",
    "else : \n",
    "    print(\"Not a Prime\")            \n",
    "        \n",
    "        \n",
    "    "
   ]
  },
  {
   "cell_type": "code",
   "execution_count": 28,
   "metadata": {},
   "outputs": [
    {
     "name": "stdout",
     "output_type": "stream",
     "text": [
      "a b c d \n",
      "1 2 3 "
     ]
    }
   ],
   "source": [
    "# Fast Iteration\n",
    "s = 'abcd'\n",
    "for c in s:\n",
    "    print(c, end = \" \")\n",
    "print() \n",
    "a = (1,2,3)  \n",
    "for b in a:\n",
    "    print(b, end=\" \")  "
   ]
  },
  {
   "cell_type": "code",
   "execution_count": 30,
   "metadata": {},
   "outputs": [
    {
     "name": "stdout",
     "output_type": "stream",
     "text": [
      "30\n"
     ]
    }
   ],
   "source": [
    "# Function\n",
    "\n",
    "def sum(a,b):\n",
    "    z = a + b\n",
    "    return z\n",
    "a = 10\n",
    "b = 20\n",
    "print(sum(a,b))"
   ]
  },
  {
   "cell_type": "code",
   "execution_count": 32,
   "metadata": {},
   "outputs": [
    {
     "name": "stdout",
     "output_type": "stream",
     "text": [
      "10000\n",
      "144\n"
     ]
    }
   ],
   "source": [
    "# Defaults arguments to a function\n",
    "\n",
    "def power(x,y=2):\n",
    "    return x ** y\n",
    "x = 10\n",
    "y = 4\n",
    "print(power(x,y))\n",
    "print(power(12))"
   ]
  },
  {
   "cell_type": "code",
   "execution_count": 33,
   "metadata": {},
   "outputs": [
    {
     "name": "stdout",
     "output_type": "stream",
     "text": [
      "6\n",
      "5\n",
      "13\n",
      "15\n",
      "26\n"
     ]
    }
   ],
   "source": [
    "def sum3(a=12,b=1,c=2):\n",
    "    return a+b+c\n",
    "print(sum3(1,2,3))\n",
    "print(sum3(1,2))\n",
    "print(sum3(10))\n",
    "print(sum3())\n",
    "print(sum3(b=12))"
   ]
  },
  {
   "cell_type": "code",
   "execution_count": 39,
   "metadata": {},
   "outputs": [
    {
     "name": "stdout",
     "output_type": "stream",
     "text": [
      "<class 'tuple'>\n"
     ]
    },
    {
     "data": {
      "text/plain": [
       "84"
      ]
     },
     "execution_count": 39,
     "metadata": {},
     "output_type": "execute_result"
    }
   ],
   "source": [
    "# Variable number of input to a function\n",
    "def sum_variable(a,b, *more):\n",
    "    print(type(more))\n",
    "    ans = a + b\n",
    "    for i in (more):\n",
    "        ans += i\n",
    "    return ans\n",
    "\n",
    "sum_variable(10,12,2,3,45,6,6)    "
   ]
  },
  {
   "cell_type": "code",
   "execution_count": 1,
   "metadata": {},
   "outputs": [
    {
     "name": "stdout",
     "output_type": "stream",
     "text": [
      "22\n",
      "-2\n"
     ]
    }
   ],
   "source": [
    "# Multiple return value\n",
    "\n",
    "def dummy (a,b):\n",
    "    return a+b,a-b\n",
    "sum1, difference = dummy(10,12)\n",
    "print(sum1)\n",
    "print(difference)\n",
    "\n",
    "   "
   ]
  },
  {
   "cell_type": "code",
   "execution_count": null,
   "metadata": {},
   "outputs": [],
   "source": []
  }
 ],
 "metadata": {
  "kernelspec": {
   "display_name": "Python 3",
   "language": "python",
   "name": "python3"
  },
  "language_info": {
   "codemirror_mode": {
    "name": "ipython",
    "version": 3
   },
   "file_extension": ".py",
   "mimetype": "text/x-python",
   "name": "python",
   "nbconvert_exporter": "python",
   "pygments_lexer": "ipython3",
   "version": "3.11.2"
  }
 },
 "nbformat": 4,
 "nbformat_minor": 2
}
